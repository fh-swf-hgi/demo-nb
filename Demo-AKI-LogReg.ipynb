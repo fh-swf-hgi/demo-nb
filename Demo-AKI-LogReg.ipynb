{
 "cells": [
  {
   "cell_type": "markdown",
   "metadata": {
    "slideshow": {
     "slide_type": "slide"
    }
   },
   "source": [
    "<figure>\n",
    "  <IMG SRC=\"https://upload.wikimedia.org/wikipedia/commons/thumb/d/d5/Fachhochschule_Südwestfalen_20xx_logo.svg/320px-Fachhochschule_Südwestfalen_20xx_logo.svg.png\" WIDTH=250 ALIGN=\"right\">\n",
    "</figure>\n",
    "\n",
    "# Klassifikation mit Logistischer Regression"
   ]
  },
  {
   "cell_type": "markdown",
   "metadata": {
    "slideshow": {
     "slide_type": "fragment"
    }
   },
   "source": [
    "Bisher haben wir gesehen, wie man mit der linearen Regression Schätzfunktionen für lineare Modelle aufstellen und mithilfe des Gradientenverfahrens trainieren kann.\n",
    "In diesem Arbeitsblatt wollen wir nun das Problem der Klassifikation betrachten.\n",
    "Beispiele für Klassifikationsaufgaben sind:\n",
    "- Werbung/Marketing: Wird ein Kunde ein bestimmtes Produkt kaufen?\n",
    "- Qualitätssicherung: Ist ein bestimmtes Produkt ok oder defekt?\n",
    "- Objekterkennung: Ist ein bestimmtes Objekt auf einem Bild zu sehen?\n",
    "- Betrugserkennung: Liegt bei einer bestimmten Transaktion ein Betrugsfall vor?\n",
    "- Finanzanalysen: Zahlt ein Kreditnehmer einen Kredit vollständig zurück?\n",
    "- Medizin: Hat ein Patient eine bestimmte Krankheit?\n",
    "- ..."
   ]
  },
  {
   "cell_type": "markdown",
   "metadata": {
    "slideshow": {
     "slide_type": "skip"
    }
   },
   "source": [
    "Anders als bei der Regression, wo wir für einen neuen Datenpunkt einen möglichst genauen Schätzwert für eine abhängige Variable berechnet haben, geht es bei der Klassifikation darum, vorherzusagen, zu welcher Klasse der Datenpunkt gehört.\n",
    "Statt einer kontinuierlichen Zielgröße wird also bei der Klassifikation eine diskrete abhängige Variable vorhergesagt.\n",
    "Im einfachsten Fall ist die zu erklärende Variable binär, die Schätzungen haben also nur die Werte *ja* oder *nein*, bzw. `1` oder `0`.\n",
    "Bei der *Multiklassen-Klassifikation* kann die Zielvariable mehr als 2 diskrete Werte annehmen, die jeweils eine bestimmte Klasse kodieren.\n",
    "Beispielsweise kann ein Bilderkennungssystem vorhersagen, welches von 100 bekannten Objekten sich am wahrscheinlichsten auf einem Bild befindet.\n",
    "Werden für die Schätzung der Zielgröße, wie es üblicherweise der Fall ist, mehrere unabhängige Variable herangezogen, spricht auch von einer multivariaten Klassifikation."
   ]
  },
  {
   "cell_type": "markdown",
   "metadata": {
    "slideshow": {
     "slide_type": "slide"
    }
   },
   "source": [
    "Grundsätzlich kann man ein Klassifikationsproblem auch mithilfe der *linearen Regression* angehen.\n",
    "Z.B. indem man eine Schätzfunktion $f$ für eine binäre Zielvariable erstellt wobei man für die Vorhersage den Wert $f(x)$ als Wahrscheinlichkeit für die Zugehörigkeit  des Datenpunkt $x$ zur Klasse `1` interpretiert. D.h., die Werte $f(x)<0.5$ werden als `0`, die Werte $f(x)\\ge0.5$ als `1` interpretiert. \n",
    "Allerdings ergeben sich dadurch einige Probleme, die die lineare Regression für Klassifikationsaufgaben nicht sehr praktikabel machen.\n",
    "U.a. liefert die Schätzfunktion $f$ auch Werte kleiner `0` und größer `1`, was bei der Interpretation als Wahrscheinlichkeit widersinnig ist."
   ]
  },
  {
   "cell_type": "markdown",
   "metadata": {
    "slideshow": {
     "slide_type": "fragment"
    }
   },
   "source": [
    "Die logistische Regression löst das Problem der Schätzfunktion indem Sie das Ergebnis der linearen Funktion durch eine geeignete Transformation auf den Wertebereich `0` bis `1` abgebildet.\n",
    "Diese Transformation wird bei logistische Regression der logistischen Funktion (auch *Sigmoidfunktion* oder *S-Funktion*) durchgeführt."
   ]
  },
  {
   "cell_type": "markdown",
   "metadata": {
    "slideshow": {
     "slide_type": "slide"
    }
   },
   "source": [
    "## Beispiel: Logistische Regression mit Scikit-Learn\n",
    "\n",
    "Bevor wir die Details der Logistischen Regression betrachten, wollen wir zunächst einen Anwendungsfall betrachten.\n",
    "Der Datensatz *Kreditscoring zur Klassifikation von Kreditnehmern. 2010. Open Data LMU. (https://doi.org/10.5282/ubm/data.23)* beinhaltet 1000 Datensätze, die Vergaben von Privatkrediten beschreiben.\n",
    "Die Spalten beschreiben verschiedene Merkmale, die die Art des Kredits sowie die Eigenschaften der Kunden beschreiben.\n",
    "Beispiele sind Höhe und Laufzeiten der Darlehn sowie das Alter und das Beschäftigungsverhältnis der Kreditnehmer.\n",
    "Die binaäre Zielgröße (auch *Dummy Variable* genannt) bildet die Spalte `kredit`.\n",
    "Der Wert `1` bedeutet, dass für den entsprechenden Datenpunkt der Kredit zurückgezahlt wurde.\n",
    "Entsprechend bedeutet `kredit=0`, dass der Kredit nicht ordnungsgemäß zurückgezahlt wurde.\n",
    "\n",
    "Aufgrund dieser Datenbasis kann nun ein System entwickelt werden, dass für eine anstehende Kreditvergabe vorhersagt, ob der Kredit zurückgezalt wird."
   ]
  },
  {
   "cell_type": "markdown",
   "metadata": {
    "slideshow": {
     "slide_type": "slide"
    }
   },
   "source": [
    "Wir importieren zuerst die Pandas Bibliothek und laden den Datensatz `kredit.csv` in einen `DataFrame`."
   ]
  },
  {
   "cell_type": "code",
   "execution_count": 1,
   "metadata": {
    "slideshow": {
     "slide_type": "subslide"
    }
   },
   "outputs": [
    {
     "data": {
      "text/html": [
       "<div>\n",
       "<style scoped>\n",
       "    .dataframe tbody tr th:only-of-type {\n",
       "        vertical-align: middle;\n",
       "    }\n",
       "\n",
       "    .dataframe tbody tr th {\n",
       "        vertical-align: top;\n",
       "    }\n",
       "\n",
       "    .dataframe thead th {\n",
       "        text-align: right;\n",
       "    }\n",
       "</style>\n",
       "<table border=\"1\" class=\"dataframe\">\n",
       "  <thead>\n",
       "    <tr style=\"text-align: right;\">\n",
       "      <th></th>\n",
       "      <th>kredit</th>\n",
       "      <th>laufkont</th>\n",
       "      <th>laufzeit</th>\n",
       "      <th>moral</th>\n",
       "      <th>verw</th>\n",
       "      <th>hoehe</th>\n",
       "      <th>sparkont</th>\n",
       "      <th>beszeit</th>\n",
       "      <th>rate</th>\n",
       "      <th>famges</th>\n",
       "      <th>...</th>\n",
       "      <th>wohnzeit</th>\n",
       "      <th>verm</th>\n",
       "      <th>alter</th>\n",
       "      <th>weitkred</th>\n",
       "      <th>wohn</th>\n",
       "      <th>bishkred</th>\n",
       "      <th>beruf</th>\n",
       "      <th>pers</th>\n",
       "      <th>telef</th>\n",
       "      <th>gastarb</th>\n",
       "    </tr>\n",
       "  </thead>\n",
       "  <tbody>\n",
       "    <tr>\n",
       "      <th>0</th>\n",
       "      <td>1</td>\n",
       "      <td>1</td>\n",
       "      <td>18</td>\n",
       "      <td>4</td>\n",
       "      <td>2</td>\n",
       "      <td>1049</td>\n",
       "      <td>1</td>\n",
       "      <td>2</td>\n",
       "      <td>4</td>\n",
       "      <td>2</td>\n",
       "      <td>...</td>\n",
       "      <td>4</td>\n",
       "      <td>2</td>\n",
       "      <td>21</td>\n",
       "      <td>3</td>\n",
       "      <td>1</td>\n",
       "      <td>1</td>\n",
       "      <td>3</td>\n",
       "      <td>1</td>\n",
       "      <td>1</td>\n",
       "      <td>1</td>\n",
       "    </tr>\n",
       "    <tr>\n",
       "      <th>1</th>\n",
       "      <td>1</td>\n",
       "      <td>1</td>\n",
       "      <td>9</td>\n",
       "      <td>4</td>\n",
       "      <td>0</td>\n",
       "      <td>2799</td>\n",
       "      <td>1</td>\n",
       "      <td>3</td>\n",
       "      <td>2</td>\n",
       "      <td>3</td>\n",
       "      <td>...</td>\n",
       "      <td>2</td>\n",
       "      <td>1</td>\n",
       "      <td>36</td>\n",
       "      <td>3</td>\n",
       "      <td>1</td>\n",
       "      <td>2</td>\n",
       "      <td>3</td>\n",
       "      <td>2</td>\n",
       "      <td>1</td>\n",
       "      <td>1</td>\n",
       "    </tr>\n",
       "    <tr>\n",
       "      <th>2</th>\n",
       "      <td>1</td>\n",
       "      <td>2</td>\n",
       "      <td>12</td>\n",
       "      <td>2</td>\n",
       "      <td>9</td>\n",
       "      <td>841</td>\n",
       "      <td>2</td>\n",
       "      <td>4</td>\n",
       "      <td>2</td>\n",
       "      <td>2</td>\n",
       "      <td>...</td>\n",
       "      <td>4</td>\n",
       "      <td>1</td>\n",
       "      <td>23</td>\n",
       "      <td>3</td>\n",
       "      <td>1</td>\n",
       "      <td>1</td>\n",
       "      <td>2</td>\n",
       "      <td>1</td>\n",
       "      <td>1</td>\n",
       "      <td>1</td>\n",
       "    </tr>\n",
       "    <tr>\n",
       "      <th>3</th>\n",
       "      <td>1</td>\n",
       "      <td>1</td>\n",
       "      <td>12</td>\n",
       "      <td>4</td>\n",
       "      <td>0</td>\n",
       "      <td>2122</td>\n",
       "      <td>1</td>\n",
       "      <td>3</td>\n",
       "      <td>3</td>\n",
       "      <td>3</td>\n",
       "      <td>...</td>\n",
       "      <td>2</td>\n",
       "      <td>1</td>\n",
       "      <td>39</td>\n",
       "      <td>3</td>\n",
       "      <td>1</td>\n",
       "      <td>2</td>\n",
       "      <td>2</td>\n",
       "      <td>2</td>\n",
       "      <td>1</td>\n",
       "      <td>2</td>\n",
       "    </tr>\n",
       "    <tr>\n",
       "      <th>4</th>\n",
       "      <td>1</td>\n",
       "      <td>1</td>\n",
       "      <td>12</td>\n",
       "      <td>4</td>\n",
       "      <td>0</td>\n",
       "      <td>2171</td>\n",
       "      <td>1</td>\n",
       "      <td>3</td>\n",
       "      <td>4</td>\n",
       "      <td>3</td>\n",
       "      <td>...</td>\n",
       "      <td>4</td>\n",
       "      <td>2</td>\n",
       "      <td>38</td>\n",
       "      <td>1</td>\n",
       "      <td>2</td>\n",
       "      <td>2</td>\n",
       "      <td>2</td>\n",
       "      <td>1</td>\n",
       "      <td>1</td>\n",
       "      <td>2</td>\n",
       "    </tr>\n",
       "    <tr>\n",
       "      <th>5</th>\n",
       "      <td>1</td>\n",
       "      <td>1</td>\n",
       "      <td>10</td>\n",
       "      <td>4</td>\n",
       "      <td>0</td>\n",
       "      <td>2241</td>\n",
       "      <td>1</td>\n",
       "      <td>2</td>\n",
       "      <td>1</td>\n",
       "      <td>3</td>\n",
       "      <td>...</td>\n",
       "      <td>3</td>\n",
       "      <td>1</td>\n",
       "      <td>48</td>\n",
       "      <td>3</td>\n",
       "      <td>1</td>\n",
       "      <td>2</td>\n",
       "      <td>2</td>\n",
       "      <td>2</td>\n",
       "      <td>1</td>\n",
       "      <td>2</td>\n",
       "    </tr>\n",
       "    <tr>\n",
       "      <th>6</th>\n",
       "      <td>1</td>\n",
       "      <td>1</td>\n",
       "      <td>8</td>\n",
       "      <td>4</td>\n",
       "      <td>0</td>\n",
       "      <td>3398</td>\n",
       "      <td>1</td>\n",
       "      <td>4</td>\n",
       "      <td>1</td>\n",
       "      <td>3</td>\n",
       "      <td>...</td>\n",
       "      <td>4</td>\n",
       "      <td>1</td>\n",
       "      <td>39</td>\n",
       "      <td>3</td>\n",
       "      <td>2</td>\n",
       "      <td>2</td>\n",
       "      <td>2</td>\n",
       "      <td>1</td>\n",
       "      <td>1</td>\n",
       "      <td>2</td>\n",
       "    </tr>\n",
       "    <tr>\n",
       "      <th>7</th>\n",
       "      <td>1</td>\n",
       "      <td>1</td>\n",
       "      <td>6</td>\n",
       "      <td>4</td>\n",
       "      <td>0</td>\n",
       "      <td>1361</td>\n",
       "      <td>1</td>\n",
       "      <td>2</td>\n",
       "      <td>2</td>\n",
       "      <td>3</td>\n",
       "      <td>...</td>\n",
       "      <td>4</td>\n",
       "      <td>1</td>\n",
       "      <td>40</td>\n",
       "      <td>3</td>\n",
       "      <td>2</td>\n",
       "      <td>1</td>\n",
       "      <td>2</td>\n",
       "      <td>2</td>\n",
       "      <td>1</td>\n",
       "      <td>2</td>\n",
       "    </tr>\n",
       "    <tr>\n",
       "      <th>8</th>\n",
       "      <td>1</td>\n",
       "      <td>4</td>\n",
       "      <td>18</td>\n",
       "      <td>4</td>\n",
       "      <td>3</td>\n",
       "      <td>1098</td>\n",
       "      <td>1</td>\n",
       "      <td>1</td>\n",
       "      <td>4</td>\n",
       "      <td>2</td>\n",
       "      <td>...</td>\n",
       "      <td>4</td>\n",
       "      <td>3</td>\n",
       "      <td>65</td>\n",
       "      <td>3</td>\n",
       "      <td>2</td>\n",
       "      <td>2</td>\n",
       "      <td>1</td>\n",
       "      <td>1</td>\n",
       "      <td>1</td>\n",
       "      <td>1</td>\n",
       "    </tr>\n",
       "    <tr>\n",
       "      <th>9</th>\n",
       "      <td>1</td>\n",
       "      <td>2</td>\n",
       "      <td>24</td>\n",
       "      <td>2</td>\n",
       "      <td>3</td>\n",
       "      <td>3758</td>\n",
       "      <td>3</td>\n",
       "      <td>1</td>\n",
       "      <td>1</td>\n",
       "      <td>2</td>\n",
       "      <td>...</td>\n",
       "      <td>4</td>\n",
       "      <td>4</td>\n",
       "      <td>23</td>\n",
       "      <td>3</td>\n",
       "      <td>1</td>\n",
       "      <td>1</td>\n",
       "      <td>1</td>\n",
       "      <td>1</td>\n",
       "      <td>1</td>\n",
       "      <td>1</td>\n",
       "    </tr>\n",
       "  </tbody>\n",
       "</table>\n",
       "<p>10 rows × 21 columns</p>\n",
       "</div>"
      ],
      "text/plain": [
       "   kredit  laufkont  laufzeit  moral  verw  hoehe  sparkont  beszeit  rate  \\\n",
       "0       1         1        18      4     2   1049         1        2     4   \n",
       "1       1         1         9      4     0   2799         1        3     2   \n",
       "2       1         2        12      2     9    841         2        4     2   \n",
       "3       1         1        12      4     0   2122         1        3     3   \n",
       "4       1         1        12      4     0   2171         1        3     4   \n",
       "5       1         1        10      4     0   2241         1        2     1   \n",
       "6       1         1         8      4     0   3398         1        4     1   \n",
       "7       1         1         6      4     0   1361         1        2     2   \n",
       "8       1         4        18      4     3   1098         1        1     4   \n",
       "9       1         2        24      2     3   3758         3        1     1   \n",
       "\n",
       "   famges  ...  wohnzeit  verm  alter  weitkred  wohn  bishkred  beruf  pers  \\\n",
       "0       2  ...         4     2     21         3     1         1      3     1   \n",
       "1       3  ...         2     1     36         3     1         2      3     2   \n",
       "2       2  ...         4     1     23         3     1         1      2     1   \n",
       "3       3  ...         2     1     39         3     1         2      2     2   \n",
       "4       3  ...         4     2     38         1     2         2      2     1   \n",
       "5       3  ...         3     1     48         3     1         2      2     2   \n",
       "6       3  ...         4     1     39         3     2         2      2     1   \n",
       "7       3  ...         4     1     40         3     2         1      2     2   \n",
       "8       2  ...         4     3     65         3     2         2      1     1   \n",
       "9       2  ...         4     4     23         3     1         1      1     1   \n",
       "\n",
       "   telef  gastarb  \n",
       "0      1        1  \n",
       "1      1        1  \n",
       "2      1        1  \n",
       "3      1        2  \n",
       "4      1        2  \n",
       "5      1        2  \n",
       "6      1        2  \n",
       "7      1        2  \n",
       "8      1        1  \n",
       "9      1        1  \n",
       "\n",
       "[10 rows x 21 columns]"
      ]
     },
     "execution_count": 1,
     "metadata": {},
     "output_type": "execute_result"
    }
   ],
   "source": [
    "import pandas as pd\n",
    "df = pd.read_csv(\"kredit.csv\")\n",
    "df.head(10)"
   ]
  },
  {
   "cell_type": "markdown",
   "metadata": {
    "slideshow": {
     "slide_type": "slide"
    }
   },
   "source": [
    "Mit `df.info()` und `df.describe()` erhalten wir einige Informationen über den Datensatz."
   ]
  },
  {
   "cell_type": "code",
   "execution_count": 2,
   "metadata": {
    "slideshow": {
     "slide_type": "fragment"
    }
   },
   "outputs": [
    {
     "name": "stdout",
     "output_type": "stream",
     "text": [
      "<class 'pandas.core.frame.DataFrame'>\n",
      "RangeIndex: 1000 entries, 0 to 999\n",
      "Data columns (total 21 columns):\n",
      " #   Column    Non-Null Count  Dtype\n",
      "---  ------    --------------  -----\n",
      " 0   kredit    1000 non-null   int64\n",
      " 1   laufkont  1000 non-null   int64\n",
      " 2   laufzeit  1000 non-null   int64\n",
      " 3   moral     1000 non-null   int64\n",
      " 4   verw      1000 non-null   int64\n",
      " 5   hoehe     1000 non-null   int64\n",
      " 6   sparkont  1000 non-null   int64\n",
      " 7   beszeit   1000 non-null   int64\n",
      " 8   rate      1000 non-null   int64\n",
      " 9   famges    1000 non-null   int64\n",
      " 10  buerge    1000 non-null   int64\n",
      " 11  wohnzeit  1000 non-null   int64\n",
      " 12  verm      1000 non-null   int64\n",
      " 13  alter     1000 non-null   int64\n",
      " 14  weitkred  1000 non-null   int64\n",
      " 15  wohn      1000 non-null   int64\n",
      " 16  bishkred  1000 non-null   int64\n",
      " 17  beruf     1000 non-null   int64\n",
      " 18  pers      1000 non-null   int64\n",
      " 19  telef     1000 non-null   int64\n",
      " 20  gastarb   1000 non-null   int64\n",
      "dtypes: int64(21)\n",
      "memory usage: 164.2 KB\n"
     ]
    }
   ],
   "source": [
    "df.info()"
   ]
  },
  {
   "cell_type": "code",
   "execution_count": 3,
   "metadata": {
    "slideshow": {
     "slide_type": "slide"
    }
   },
   "outputs": [
    {
     "data": {
      "text/html": [
       "<div>\n",
       "<style scoped>\n",
       "    .dataframe tbody tr th:only-of-type {\n",
       "        vertical-align: middle;\n",
       "    }\n",
       "\n",
       "    .dataframe tbody tr th {\n",
       "        vertical-align: top;\n",
       "    }\n",
       "\n",
       "    .dataframe thead th {\n",
       "        text-align: right;\n",
       "    }\n",
       "</style>\n",
       "<table border=\"1\" class=\"dataframe\">\n",
       "  <thead>\n",
       "    <tr style=\"text-align: right;\">\n",
       "      <th></th>\n",
       "      <th>kredit</th>\n",
       "      <th>laufkont</th>\n",
       "      <th>laufzeit</th>\n",
       "      <th>moral</th>\n",
       "      <th>verw</th>\n",
       "      <th>hoehe</th>\n",
       "      <th>sparkont</th>\n",
       "      <th>beszeit</th>\n",
       "      <th>rate</th>\n",
       "      <th>famges</th>\n",
       "      <th>...</th>\n",
       "      <th>wohnzeit</th>\n",
       "      <th>verm</th>\n",
       "      <th>alter</th>\n",
       "      <th>weitkred</th>\n",
       "      <th>wohn</th>\n",
       "      <th>bishkred</th>\n",
       "      <th>beruf</th>\n",
       "      <th>pers</th>\n",
       "      <th>telef</th>\n",
       "      <th>gastarb</th>\n",
       "    </tr>\n",
       "  </thead>\n",
       "  <tbody>\n",
       "    <tr>\n",
       "      <th>count</th>\n",
       "      <td>1000.000000</td>\n",
       "      <td>1000.000000</td>\n",
       "      <td>1000.000000</td>\n",
       "      <td>1000.00000</td>\n",
       "      <td>1000.000000</td>\n",
       "      <td>1000.00000</td>\n",
       "      <td>1000.000000</td>\n",
       "      <td>1000.000000</td>\n",
       "      <td>1000.000000</td>\n",
       "      <td>1000.00000</td>\n",
       "      <td>...</td>\n",
       "      <td>1000.000000</td>\n",
       "      <td>1000.000000</td>\n",
       "      <td>1000.00000</td>\n",
       "      <td>1000.000000</td>\n",
       "      <td>1000.000000</td>\n",
       "      <td>1000.000000</td>\n",
       "      <td>1000.000000</td>\n",
       "      <td>1000.000000</td>\n",
       "      <td>1000.000000</td>\n",
       "      <td>1000.000000</td>\n",
       "    </tr>\n",
       "    <tr>\n",
       "      <th>mean</th>\n",
       "      <td>0.700000</td>\n",
       "      <td>2.577000</td>\n",
       "      <td>20.903000</td>\n",
       "      <td>2.54500</td>\n",
       "      <td>2.828000</td>\n",
       "      <td>3271.24800</td>\n",
       "      <td>2.105000</td>\n",
       "      <td>3.384000</td>\n",
       "      <td>2.973000</td>\n",
       "      <td>2.68200</td>\n",
       "      <td>...</td>\n",
       "      <td>2.845000</td>\n",
       "      <td>2.358000</td>\n",
       "      <td>35.54200</td>\n",
       "      <td>2.675000</td>\n",
       "      <td>1.928000</td>\n",
       "      <td>1.407000</td>\n",
       "      <td>2.904000</td>\n",
       "      <td>1.155000</td>\n",
       "      <td>1.404000</td>\n",
       "      <td>1.037000</td>\n",
       "    </tr>\n",
       "    <tr>\n",
       "      <th>std</th>\n",
       "      <td>0.458487</td>\n",
       "      <td>1.257638</td>\n",
       "      <td>12.058814</td>\n",
       "      <td>1.08312</td>\n",
       "      <td>2.744439</td>\n",
       "      <td>2822.75176</td>\n",
       "      <td>1.580023</td>\n",
       "      <td>1.208306</td>\n",
       "      <td>1.118715</td>\n",
       "      <td>0.70808</td>\n",
       "      <td>...</td>\n",
       "      <td>1.103718</td>\n",
       "      <td>1.050209</td>\n",
       "      <td>11.35267</td>\n",
       "      <td>0.705601</td>\n",
       "      <td>0.530186</td>\n",
       "      <td>0.577654</td>\n",
       "      <td>0.653614</td>\n",
       "      <td>0.362086</td>\n",
       "      <td>0.490943</td>\n",
       "      <td>0.188856</td>\n",
       "    </tr>\n",
       "    <tr>\n",
       "      <th>min</th>\n",
       "      <td>0.000000</td>\n",
       "      <td>1.000000</td>\n",
       "      <td>4.000000</td>\n",
       "      <td>0.00000</td>\n",
       "      <td>0.000000</td>\n",
       "      <td>250.00000</td>\n",
       "      <td>1.000000</td>\n",
       "      <td>1.000000</td>\n",
       "      <td>1.000000</td>\n",
       "      <td>1.00000</td>\n",
       "      <td>...</td>\n",
       "      <td>1.000000</td>\n",
       "      <td>1.000000</td>\n",
       "      <td>19.00000</td>\n",
       "      <td>1.000000</td>\n",
       "      <td>1.000000</td>\n",
       "      <td>1.000000</td>\n",
       "      <td>1.000000</td>\n",
       "      <td>1.000000</td>\n",
       "      <td>1.000000</td>\n",
       "      <td>1.000000</td>\n",
       "    </tr>\n",
       "    <tr>\n",
       "      <th>25%</th>\n",
       "      <td>0.000000</td>\n",
       "      <td>1.000000</td>\n",
       "      <td>12.000000</td>\n",
       "      <td>2.00000</td>\n",
       "      <td>1.000000</td>\n",
       "      <td>1365.50000</td>\n",
       "      <td>1.000000</td>\n",
       "      <td>3.000000</td>\n",
       "      <td>2.000000</td>\n",
       "      <td>2.00000</td>\n",
       "      <td>...</td>\n",
       "      <td>2.000000</td>\n",
       "      <td>1.000000</td>\n",
       "      <td>27.00000</td>\n",
       "      <td>3.000000</td>\n",
       "      <td>2.000000</td>\n",
       "      <td>1.000000</td>\n",
       "      <td>3.000000</td>\n",
       "      <td>1.000000</td>\n",
       "      <td>1.000000</td>\n",
       "      <td>1.000000</td>\n",
       "    </tr>\n",
       "    <tr>\n",
       "      <th>50%</th>\n",
       "      <td>1.000000</td>\n",
       "      <td>2.000000</td>\n",
       "      <td>18.000000</td>\n",
       "      <td>2.00000</td>\n",
       "      <td>2.000000</td>\n",
       "      <td>2319.50000</td>\n",
       "      <td>1.000000</td>\n",
       "      <td>3.000000</td>\n",
       "      <td>3.000000</td>\n",
       "      <td>3.00000</td>\n",
       "      <td>...</td>\n",
       "      <td>3.000000</td>\n",
       "      <td>2.000000</td>\n",
       "      <td>33.00000</td>\n",
       "      <td>3.000000</td>\n",
       "      <td>2.000000</td>\n",
       "      <td>1.000000</td>\n",
       "      <td>3.000000</td>\n",
       "      <td>1.000000</td>\n",
       "      <td>1.000000</td>\n",
       "      <td>1.000000</td>\n",
       "    </tr>\n",
       "    <tr>\n",
       "      <th>75%</th>\n",
       "      <td>1.000000</td>\n",
       "      <td>4.000000</td>\n",
       "      <td>24.000000</td>\n",
       "      <td>4.00000</td>\n",
       "      <td>3.000000</td>\n",
       "      <td>3972.25000</td>\n",
       "      <td>3.000000</td>\n",
       "      <td>5.000000</td>\n",
       "      <td>4.000000</td>\n",
       "      <td>3.00000</td>\n",
       "      <td>...</td>\n",
       "      <td>4.000000</td>\n",
       "      <td>3.000000</td>\n",
       "      <td>42.00000</td>\n",
       "      <td>3.000000</td>\n",
       "      <td>2.000000</td>\n",
       "      <td>2.000000</td>\n",
       "      <td>3.000000</td>\n",
       "      <td>1.000000</td>\n",
       "      <td>2.000000</td>\n",
       "      <td>1.000000</td>\n",
       "    </tr>\n",
       "    <tr>\n",
       "      <th>max</th>\n",
       "      <td>1.000000</td>\n",
       "      <td>4.000000</td>\n",
       "      <td>72.000000</td>\n",
       "      <td>4.00000</td>\n",
       "      <td>10.000000</td>\n",
       "      <td>18424.00000</td>\n",
       "      <td>5.000000</td>\n",
       "      <td>5.000000</td>\n",
       "      <td>4.000000</td>\n",
       "      <td>4.00000</td>\n",
       "      <td>...</td>\n",
       "      <td>4.000000</td>\n",
       "      <td>4.000000</td>\n",
       "      <td>75.00000</td>\n",
       "      <td>3.000000</td>\n",
       "      <td>3.000000</td>\n",
       "      <td>4.000000</td>\n",
       "      <td>4.000000</td>\n",
       "      <td>2.000000</td>\n",
       "      <td>2.000000</td>\n",
       "      <td>2.000000</td>\n",
       "    </tr>\n",
       "  </tbody>\n",
       "</table>\n",
       "<p>8 rows × 21 columns</p>\n",
       "</div>"
      ],
      "text/plain": [
       "            kredit     laufkont     laufzeit       moral         verw  \\\n",
       "count  1000.000000  1000.000000  1000.000000  1000.00000  1000.000000   \n",
       "mean      0.700000     2.577000    20.903000     2.54500     2.828000   \n",
       "std       0.458487     1.257638    12.058814     1.08312     2.744439   \n",
       "min       0.000000     1.000000     4.000000     0.00000     0.000000   \n",
       "25%       0.000000     1.000000    12.000000     2.00000     1.000000   \n",
       "50%       1.000000     2.000000    18.000000     2.00000     2.000000   \n",
       "75%       1.000000     4.000000    24.000000     4.00000     3.000000   \n",
       "max       1.000000     4.000000    72.000000     4.00000    10.000000   \n",
       "\n",
       "             hoehe     sparkont      beszeit         rate      famges  ...  \\\n",
       "count   1000.00000  1000.000000  1000.000000  1000.000000  1000.00000  ...   \n",
       "mean    3271.24800     2.105000     3.384000     2.973000     2.68200  ...   \n",
       "std     2822.75176     1.580023     1.208306     1.118715     0.70808  ...   \n",
       "min      250.00000     1.000000     1.000000     1.000000     1.00000  ...   \n",
       "25%     1365.50000     1.000000     3.000000     2.000000     2.00000  ...   \n",
       "50%     2319.50000     1.000000     3.000000     3.000000     3.00000  ...   \n",
       "75%     3972.25000     3.000000     5.000000     4.000000     3.00000  ...   \n",
       "max    18424.00000     5.000000     5.000000     4.000000     4.00000  ...   \n",
       "\n",
       "          wohnzeit         verm       alter     weitkred         wohn  \\\n",
       "count  1000.000000  1000.000000  1000.00000  1000.000000  1000.000000   \n",
       "mean      2.845000     2.358000    35.54200     2.675000     1.928000   \n",
       "std       1.103718     1.050209    11.35267     0.705601     0.530186   \n",
       "min       1.000000     1.000000    19.00000     1.000000     1.000000   \n",
       "25%       2.000000     1.000000    27.00000     3.000000     2.000000   \n",
       "50%       3.000000     2.000000    33.00000     3.000000     2.000000   \n",
       "75%       4.000000     3.000000    42.00000     3.000000     2.000000   \n",
       "max       4.000000     4.000000    75.00000     3.000000     3.000000   \n",
       "\n",
       "          bishkred        beruf         pers        telef      gastarb  \n",
       "count  1000.000000  1000.000000  1000.000000  1000.000000  1000.000000  \n",
       "mean      1.407000     2.904000     1.155000     1.404000     1.037000  \n",
       "std       0.577654     0.653614     0.362086     0.490943     0.188856  \n",
       "min       1.000000     1.000000     1.000000     1.000000     1.000000  \n",
       "25%       1.000000     3.000000     1.000000     1.000000     1.000000  \n",
       "50%       1.000000     3.000000     1.000000     1.000000     1.000000  \n",
       "75%       2.000000     3.000000     1.000000     2.000000     1.000000  \n",
       "max       4.000000     4.000000     2.000000     2.000000     2.000000  \n",
       "\n",
       "[8 rows x 21 columns]"
      ]
     },
     "execution_count": 3,
     "metadata": {},
     "output_type": "execute_result"
    }
   ],
   "source": [
    "df.describe()"
   ]
  },
  {
   "cell_type": "markdown",
   "metadata": {
    "slideshow": {
     "slide_type": "slide"
    }
   },
   "source": [
    "Wir teilen nun die kompletten Daten in einen Trainings- und einen Test-Datensatz auf.\n",
    "Dazu kann man die Methode `train_test_split()` aus dem Modul `sklearn.model_selection` verwendet werden.\n",
    "Der Parameter `test_size` legt den Anteil des Daten im Test-Datensatz fest.\n",
    "Die Aufteilung der Datenpunkte erfolgt zufällig.\n",
    "Falls Sie immer die gleiche Aufteilung vornehmen wollen (damit die Ergebnisse vergleichbar sind) können Sie durch Festlegen des Parameters `random_state` erzwingen, dass immer die gleichen Folgen von Zufallszahlen erzeugt werden."
   ]
  },
  {
   "cell_type": "code",
   "execution_count": 4,
   "metadata": {
    "slideshow": {
     "slide_type": "fragment"
    }
   },
   "outputs": [],
   "source": [
    "from sklearn.model_selection import train_test_split\n",
    "X_train, X_test, y_train, y_test = train_test_split(df.iloc[:,1:],df.iloc[:,0],test_size=0.3, random_state=0)"
   ]
  },
  {
   "cell_type": "markdown",
   "metadata": {
    "slideshow": {
     "slide_type": "slide"
    }
   },
   "source": [
    "Wenn Sie Testen wollen, wie gut das Modell mit einer Auswahl der Merkmale funktioniert, können Sie die Spalten im Datensatz entsprechend einschränken."
   ]
  },
  {
   "cell_type": "code",
   "execution_count": 5,
   "metadata": {
    "slideshow": {
     "slide_type": "fragment"
    }
   },
   "outputs": [],
   "source": [
    "from sklearn.model_selection import train_test_split\n",
    "X_train, X_test, y_train, y_test = train_test_split(df[[\"moral\",\"rate\",\"pers\",\"alter\",\"wohn\",\"beruf\"]],df.iloc[:,0],test_size=0.3, random_state=0)"
   ]
  },
  {
   "cell_type": "markdown",
   "metadata": {
    "slideshow": {
     "slide_type": "slide"
    }
   },
   "source": [
    "Für die Modellbildung verwenden wir nun eine `slearn`-Pipeline mit zwei Phasen.\n",
    "Im ersten Schritt sollen die Werte des Datensatzes mit dem `MinMaxScaler` skaliert werden, danach soll eine logistisches Regressionsmodell angewendet werden.\n",
    "Mit den Aufruf `pipeline.fit()` trainieren wir das angelegte Modell.\n",
    "\n",
    "Die Modellparameter können über die Attribute `intercept_` und `coef_` abgerufen werden.\n",
    "Üblicherweise interessieren den Programmierer diese Werte nicht.\n",
    "die Schätzung für einen neuen Datenpunkt kann ja ganz einfach mit der Funktion `predict()` berechnet werden.\n",
    "Für uns sind die Informationen allerdings interessant, da wir die Methode `fit()` händisch nachprogrammieren wollenden und so die jeweiligen gelerneten Modellparameter miteinander vergleichen können."
   ]
  },
  {
   "cell_type": "code",
   "execution_count": 6,
   "metadata": {
    "slideshow": {
     "slide_type": "slide"
    }
   },
   "outputs": [
    {
     "data": {
      "text/plain": [
       "(array([0.22903086]),\n",
       " array([[ 1.62229049, -0.77518658, -0.06587562,  0.99822518, -0.0738919 ,\n",
       "         -0.03736941]]))"
      ]
     },
     "execution_count": 6,
     "metadata": {},
     "output_type": "execute_result"
    }
   ],
   "source": [
    "from sklearn.pipeline import Pipeline\n",
    "from sklearn.preprocessing import MinMaxScaler\n",
    "from sklearn.linear_model import LogisticRegression\n",
    "\n",
    "pipeline = Pipeline([\n",
    "    ('scaler',MinMaxScaler()),\n",
    "    ('model', LogisticRegression(solver='lbfgs'))\n",
    "])\n",
    "\n",
    "pipeline.fit(X_train,y_train)\n",
    "\n",
    "params0 = pipeline.named_steps[\"model\"].intercept_\n",
    "paramsi  = pipeline.named_steps[\"model\"].coef_\n",
    "\n",
    "params0, paramsi"
   ]
  },
  {
   "cell_type": "markdown",
   "metadata": {
    "slideshow": {
     "slide_type": "slide"
    }
   },
   "source": [
    "Nachdem Wir das Modell mit den den Trainingsdaten trainiert haben, verwenden wir den Testdatensatz um die Qualität des Modells zu bewerten.\n",
    "Eine Vorhersagegenauigkeit von 75% bedeutet, dass für 3 von 4 Krediten korrekt vorhergesagt werden konnte, ob ein Kredit vom Bankkunden ordnungsgemäß zurückgezahlt wurde.\n",
    "Die Interpretation des Ergebnisses, also die die Einschätzung, ob die Vorhersagegenauigkeit gut oder schlecht ist, obliegt nun den Experten für das konkrete Anwendungsfeld, in diesem Fall den Kreditexperten der Bank.\n"
   ]
  },
  {
   "cell_type": "code",
   "execution_count": 7,
   "metadata": {
    "slideshow": {
     "slide_type": "fragment"
    }
   },
   "outputs": [
    {
     "name": "stdout",
     "output_type": "stream",
     "text": [
      "Vorhersagegenauigkeit (Testdaten): 68.00%\n"
     ]
    }
   ],
   "source": [
    "import numpy as np\n",
    "y_pred = pipeline.predict(X_test)\n",
    "acc_train = np.sum((y_pred==y_test)*1)/len(y_test)\n",
    "print(\"Vorhersagegenauigkeit (Testdaten): %.2f%%\" % (acc_train*100))"
   ]
  },
  {
   "cell_type": "markdown",
   "metadata": {
    "slideshow": {
     "slide_type": "slide"
    }
   },
   "source": [
    "## Logistische Regression"
   ]
  },
  {
   "cell_type": "markdown",
   "metadata": {
    "slideshow": {
     "slide_type": "fragment"
    }
   },
   "source": [
    "Um die Methode der logistischen Regression genauer zu erklären, generieren wir uns einenen synthetischen Datensatz mit nur zwei Merkmalen.\n",
    "Diese vereinfachte Problemstellung erlaubt es uns, Daten und Funktionen im zweidimensionalen Koordinatensystem zu plotten und so besser zu visualisieren.\n",
    "\n",
    "Unser frei erstellter Datensatz soll einen Zusammenhang zwischen der Zeit, die ein Student für eine Prüfung lernt und dem Prüfungsresultat beschreiben.\n",
    "Das NumPy-Array `X` beschreibt die Zeitstunden, die die einzelnen Studierenden für die Prüfungsvorbereitung werwendet haben, `y` die Ergebnisse der Prüfung mit den Boole'schen Werten 1 (für *bestanden*) und 0 (für *nich-bestanden*)."
   ]
  },
  {
   "cell_type": "code",
   "execution_count": 8,
   "metadata": {},
   "outputs": [],
   "source": [
    "X = np.array([55, 22, 18, 44, 57, 33, 78, 54, 38, 31, 27, 58, 35, 4, 31, 59, 14, 14, 42, 42, \n",
    "     50, 67, 57, 48, 57, 25, 28, 18, 23, 50, 7, 34, 34, 39, 34, 24, 34, 71, 75, 40])\n",
    "y = np.array([1, 0, 0, 1, 1, 1, 1, 1, 1, 1, 1, 1, 0, 0, 0, 1, 0, 0, 1, 1, 1, 1, 1, 1, 1, 1,\n",
    "     1, 0, 0, 1, 0, 1, 0, 1, 0, 0, 1, 1, 1, 1])"
   ]
  },
  {
   "cell_type": "code",
   "execution_count": 9,
   "metadata": {},
   "outputs": [
    {
     "data": {
      "image/png": "[encoded data removed]",
      "text/plain": [
       "<Figure size 864x432 with 1 Axes>"
      ]
     },
     "metadata": {
      "needs_background": "light"
     },
     "output_type": "display_data"
    }
   ],
   "source": [
    "import matplotlib.pyplot as plt\n",
    "\n",
    "plt.figure(figsize=(12,6))\n",
    "plt.scatter(X[y==0], y[y==0], marker='o')\n",
    "plt.scatter(X[y==1], y[y==1], marker='d')\n",
    "plt.xlabel(\"Lernstunden\", fontsize=14)\n",
    "plt.text(3, .98, \"bestanden\")\n",
    "plt.text(50, 0, \"nicht bestanden\")\n",
    "plt.axvline(x=30, c='grey', ls=':', label=\"Entscheidungsgrenze\")\n",
    "plt.savefig(\"LogistischeRegression03.png\",transparent=True, dpi=300)\n",
    "plt.show()\n"
   ]
  },
  {
   "cell_type": "markdown",
   "metadata": {
    "slideshow": {
     "slide_type": "slide"
    }
   },
   "source": [
    "Da wir noch nicht wissen, wie wir eine Funktion herleiten können, die auf Grundlage der Lernstunden die Wahrscheinlichkeitsverteilung für das Bestehen der Klausur voraussagt, überlegen wir, wie so eine Funktion aussehen könnte.\n",
    "Im Diagramm unten abgebildet, ist der Graph der Funktion `prob`, die eine Schätzung der Wahrscheinlichkeitsverteilung für das Bestehen der Klausur unter Angabe der Lernstunden darstellt.\n",
    "\n",
    "Diese Funktion ist ein mögliches Modell für die Wahrscheinlichkeiten eines Erfolgs.\n",
    "Wenn man nun die Entscheidungsgrenze bei `prob(x)=0.5` anlegt sieht man, dass die Funktion suboptimal ist."
   ]
  },
  {
   "cell_type": "code",
   "execution_count": 10,
   "metadata": {},
   "outputs": [
    {
     "data": {
      "image/png": "[encoded data removed]",
      "text/plain": [
       "<Figure size 864x432 with 1 Axes>"
      ]
     },
     "metadata": {
      "needs_background": "light"
     },
     "output_type": "display_data"
    },
    {
     "data": {
      "text/plain": [
       "(1, 81)"
      ]
     },
     "execution_count": 10,
     "metadata": {},
     "output_type": "execute_result"
    }
   ],
   "source": [
    "epsilon = 1e-3\n",
    "miny = X.min()-3\n",
    "maxy = X.max()+3\n",
    "\n",
    "@np.vectorize\n",
    "def prob(x,a,b):\n",
    "    a = a-1\n",
    "    b = b+1\n",
    "    if x<a: return 0.0\n",
    "    elif x>b: return 1.0\n",
    "    else:\n",
    "        res = 1/(b-a) * x - (a/(b-a))\n",
    "        assert res<1, \"Für x=%f ergibt die W'keit 1\" % x\n",
    "        return res\n",
    "    \n",
    "xx = np.linspace(-10,100,100)\n",
    "plt.figure(figsize=(12,6))\n",
    "plt.scatter(X, y)\n",
    "plt.xlabel(\"Lernstunden\", fontsize=14)\n",
    "plt.plot(xx, prob(xx,miny,maxy), c='r')\n",
    "plt.axvline(x=miny+(maxy-miny)*.5, c='grey', ls=':')\n",
    "\n",
    "plt.savefig(\"LogistischeRegression04.png\",transparent=True, dpi=300)\n",
    "plt.show()\n",
    "miny, maxy"
   ]
  },
  {
   "cell_type": "markdown",
   "metadata": {},
   "source": [
    "Wir verwenden nun unsere geschätzte Wahrscheinlichkeitsverteilung, um die *Chancen* (auf einen Erfolg) zu berechnen.\n",
    "In der Statistik beschreibt die Chance (engl *odds*) den Quotienten aus der Wahrscheinlichkeit $p$ eines Ereignisses und seiner Gegenwahrscheinlichkeit: $\\frac{p}{1-p}$.\n",
    "\n",
    "Beim Münzwurf beträgt die Chance z.B.  1:1 (Wahrscheilichkeit $\\frac{0,5}{0,5}$ oder \"ein guter Fall, ein schlechter Fall\"), beim Würfeln einer sechs 1:5.\n",
    "\n",
    "Bei einer Wahrscheinlichkeit von 0 ist die Chance ebenfalls 0 ($\\frac{0}{1}$). Je weiter sich die Wahrscheinlichkeit für einen Erfolg der 1 nähert, desto größer wird die Chance: $\\lim\\limits_{p \\rightarrow 1}{\\frac{p}{1-p}}=\\infty$"
   ]
  },
  {
   "cell_type": "code",
   "execution_count": 11,
   "metadata": {
    "slideshow": {
     "slide_type": "slide"
    }
   },
   "outputs": [
    {
     "data": {
      "text/plain": [
       "[0, 80, -0.1, 10]"
      ]
     },
     "execution_count": 11,
     "metadata": {},
     "output_type": "execute_result"
    },
    {
     "data": {
      "image/png": "[encoded data removed]",
      "text/plain": [
       "<Figure size 864x432 with 2 Axes>"
      ]
     },
     "metadata": {
      "needs_background": "light"
     },
     "output_type": "display_data"
    }
   ],
   "source": [
    "@np.vectorize\n",
    "def chance(x):\n",
    "    assert x<1, \"Für x=%f sind die Chancen nicht definiert\" % x\n",
    "    return x/(1-x)\n",
    "\n",
    "fig = plt.figure(figsize=(12,6))\n",
    "ax1 = fig.add_subplot(111)\n",
    "ax2 = ax1.twiny()\n",
    "\n",
    "xx = np.linspace(miny+epsilon,maxy-epsilon,100)\n",
    "ax1.scatter(X, y)\n",
    "\n",
    "xxx = prob(xx,miny,maxy)\n",
    "\n",
    "ax1.set_xlabel(\"Lernstunden\", fontsize=14)\n",
    "ax2.set_xlabel(r\"$p$\", fontsize=14)\n",
    "ax2.plot(xxx, chance(xxx), c='r', label=\"Chance\")\n",
    "plt.legend(loc='upper left')\n",
    "plt.savefig(\"LogistischeRegression_Chance.png\",transparent=True, dpi=300)\n",
    "ax1.axis([0,80,-0.1,10])"
   ]
  },
  {
   "cell_type": "markdown",
   "metadata": {
    "slideshow": {
     "slide_type": "fragment"
    }
   },
   "source": [
    "Im obigen Graph sind auf der x-Achse die Lernstunden für die Datenpunkte sowie die Bestehens-Wahrscheinlichkeit $p$ für die Funktion *Chance* aufgetragen.\n",
    "Unabhängig von dem Anwendungsfall besitzt *Chance* für jede lineare Wahrscheinlichkeitsfunktion $P(X=x_i)$ die gleiche Form.\n"
   ]
  },
  {
   "cell_type": "markdown",
   "metadata": {},
   "source": [
    "Nun transformieren wir die Chance-Funktion mit dem (natürlichen) Logarithmus aus dem Wertebereich $[0,\\infty[$ in den Bereich $]-\\infty,\\infty[$."
   ]
  },
  {
   "cell_type": "code",
   "execution_count": 12,
   "metadata": {
    "slideshow": {
     "slide_type": "slide"
    }
   },
   "outputs": [
    {
     "data": {
      "image/png": "[encoded data removed]",
      "text/plain": [
       "<Figure size 864x432 with 2 Axes>"
      ]
     },
     "metadata": {
      "needs_background": "light"
     },
     "output_type": "display_data"
    }
   ],
   "source": [
    "fig = plt.figure(figsize=(12,6))\n",
    "ax1 = fig.add_subplot(111)\n",
    "ax2 = ax1.twiny()\n",
    "\n",
    "ax1.scatter(X, y)\n",
    "ax1.set_xlabel(\"Lernstunden\", fontsize=14)\n",
    "ax2.set_xlabel(r\"$p$\", fontsize=14)\n",
    "xxx = prob(xx,miny,maxy)\n",
    "ax2.plot(xxx, chance(xxx), c='r', label=\"Chance\")\n",
    "ax2.plot(xxx, np.log(chance(xxx)), c='g', label=\"logit\")\n",
    "plt.legend(loc='upper left')\n",
    "ax1.axis([0,80,-5,5])\n",
    "plt.savefig(\"LogistischeRegression06.png\",transparent=True, dpi=300)\n",
    "plt.show()"
   ]
  },
  {
   "cell_type": "markdown",
   "metadata": {},
   "source": [
    "Die resultierende **logit** Funktion läuft \"in der Mitte\", also ca. dem Bereich $[0.2,0.8]$ annähernd linear.\n",
    "Daher können wir die Kurve durch ein lineares Modell approximieren."
   ]
  },
  {
   "cell_type": "code",
   "execution_count": 13,
   "metadata": {},
   "outputs": [
    {
     "data": {
      "text/plain": [
       "(array([-2.55561926]), array([[0.06279869]]))"
      ]
     },
     "execution_count": 13,
     "metadata": {},
     "output_type": "execute_result"
    }
   ],
   "source": [
    "from sklearn.linear_model import LinearRegression\n",
    "\n",
    "linreg = LinearRegression()\n",
    "\n",
    "xxx = prob(X,miny,maxy)\n",
    "XX = X.reshape(-1, 1)\n",
    "yy = np.log(chance(xxx)).reshape(-1, 1)\n",
    "    \n",
    "linreg.fit(XX,yy)\n",
    "t0 = linreg.intercept_\n",
    "t1 = linreg.coef_\n",
    "t0, t1"
   ]
  },
  {
   "cell_type": "markdown",
   "metadata": {},
   "source": [
    "Im unten angegebenen Graph sind *Chance* und *logit* Funktionen der Wahrscheinlichkeit.\n",
    "Die Funktion *model* hingegen, hängt von den Lernstunden ab.\n",
    "Man sieht, dass sich die Modellfunktion und die Logit-Funktion im Mittelteil recht gut überdecken."
   ]
  },
  {
   "cell_type": "code",
   "execution_count": 14,
   "metadata": {},
   "outputs": [
    {
     "data": {
      "image/png": "[encoded data removed]",
      "text/plain": [
       "<Figure size 864x432 with 2 Axes>"
      ]
     },
     "metadata": {
      "needs_background": "light"
     },
     "output_type": "display_data"
    }
   ],
   "source": [
    "fig = plt.figure(figsize=(12,6))\n",
    "ax1 = fig.add_subplot(111)\n",
    "ax2 = ax1.twiny()\n",
    "ax1.set_xlabel(\"Lernstunden\", fontsize=14)\n",
    "ax2.set_xlabel(r\"$p$\", fontsize=14)\n",
    "\n",
    "ax1.scatter(X, y)\n",
    "xxx = prob(xx,miny,maxy)\n",
    "ax2.plot(xxx, chance(xxx), c='r', label=\"Chance\")\n",
    "ax2.plot(xxx, np.log(chance(xxx)), c='g', label=\"logit\")\n",
    "modely = list(map(lambda x: (t0+t1*x).item(0), X))\n",
    "modelx, modely = zip(*sorted(zip(X, modely)))\n",
    "ax1.plot(modelx, modely, c='orange', label=\"model\", linewidth=3)\n",
    "ax2.legend(loc='upper left')\n",
    "ax1.legend(loc='lower right')\n",
    "ax1.axis([0,80,-5,5])\n",
    "plt.savefig(\"LogistischeRegression07.png\",transparent=True, dpi=300)\n",
    "plt.show()"
   ]
  },
  {
   "cell_type": "markdown",
   "metadata": {},
   "source": [
    "Wir haben bisher mit der \"selbst ausgedachten\" Verteilungsfunktion für die Wahrscheinlichkeiten *prob* gearbeitet.\n",
    "Durch Anwenden der Logit-Funktion auf *prob* haben wir eine Funktion erzeugt, die wir mit mit einem linearen Model $\\Theta^Tx$ approximieren können.\n",
    "\n",
    "Wir wollen nun betrachten, wie man die Wahrscheinlichkeitsfunktion allgemein bestimmen kann.\n",
    "Wir wissen, dass sich die Logit-Funktion $logit(x)=ln(chance(x))$ äquivalent zu der lineatren Funktion $h_{\\Theta}(x)=\\Theta^Tx$ verhält. Wir können nun durch Einsetzen und Umformen die Verteilungsfunktion $p(x)$ herleiten:"
   ]
  },
  {
   "cell_type": "markdown",
   "metadata": {
    "slideshow": {
     "slide_type": "slide"
    }
   },
   "source": [
    "$$ln(chance(x)) \\thicksim \\Theta^Tx$$"
   ]
  },
  {
   "cell_type": "markdown",
   "metadata": {
    "slideshow": {
     "slide_type": "fragment"
    }
   },
   "source": [
    "$$\\Leftrightarrow chance(x) \\thicksim e^{\\Theta^Tx}$$"
   ]
  },
  {
   "cell_type": "markdown",
   "metadata": {
    "slideshow": {
     "slide_type": "fragment"
    }
   },
   "source": [
    "$$\\Leftrightarrow \\frac{p(x)}{1-p(x)} \\thicksim e^{\\Theta^Tx}$$"
   ]
  },
  {
   "cell_type": "markdown",
   "metadata": {
    "slideshow": {
     "slide_type": "fragment"
    }
   },
   "source": [
    "$$\\Leftrightarrow \\frac{p(x)}{1-p(x)} \\cdot \\frac{1/p(x)}{1/p(x)} \\thicksim e^{\\Theta^Tx}$$"
   ]
  },
  {
   "cell_type": "markdown",
   "metadata": {
    "slideshow": {
     "slide_type": "fragment"
    }
   },
   "source": [
    "$$\\Leftrightarrow \\frac{1}{p(x)^{-1}-1} \\thicksim e^{\\Theta^Tx}$$"
   ]
  },
  {
   "cell_type": "markdown",
   "metadata": {
    "slideshow": {
     "slide_type": "fragment"
    }
   },
   "source": [
    "$$\\Leftrightarrow p(x)^{-1}-1 \\thicksim e^{-\\Theta^Tx}$$"
   ]
  },
  {
   "cell_type": "markdown",
   "metadata": {
    "slideshow": {
     "slide_type": "fragment"
    }
   },
   "source": [
    "$$\\Leftrightarrow p(x)^{-1} \\thicksim 1+e^{-\\Theta^Tx}$$"
   ]
  },
  {
   "cell_type": "markdown",
   "metadata": {
    "slideshow": {
     "slide_type": "fragment"
    }
   },
   "source": [
    "$$\\Leftrightarrow p(x) \\thicksim \\frac{1}{1+e^{-\\Theta^Tx}}$$"
   ]
  },
  {
   "cell_type": "markdown",
   "metadata": {
    "slideshow": {
     "slide_type": "slide"
    }
   },
   "source": [
    "Damit haben wir hergeleitet, dass sich die Wahrscheinlichkeitsverteilung als Sigmoidfunktion in Abhängigkeit der Modellparameter $\\Theta$ sowie den Werten der unabhängigen Variablen darstellen lässt.\n",
    "So haben wir die **Modellfunktion** für unser Klassifikationsproblem erhalten:\n",
    "\n",
    "$$\n",
    "h_{\\Theta}(x) = \\frac{1}{1+e^{-\\Theta^Tx}}\n",
    "$$\n",
    "\n",
    "Bei der hergeleiteten Funktion handelt es sich um die sogenannte *Logistische Funktion*, eine spezielle Form der *Sigmoiodfunktion*.\n",
    "Sigmoidfunktionen werden aufgrund Ihrer einfachen Differenzierbarkeit (es gilt $sig'(x)=sig(x)(1-sig(x))$) häufig in künstlichen neuronalen Netzen als sogenannte *Aktivierungsfunktion* verwendet."
   ]
  },
  {
   "cell_type": "markdown",
   "metadata": {
    "slideshow": {
     "slide_type": "fragment"
    }
   },
   "source": [
    "Als nächsten Schtritt wollen wir nun betrachten, welche **Kostenfunktion** wir zur Bestimmung der Parameter $\\Theta$ anwenden können.\n",
    "Bei der linearen Regression haben wir als Kostenfunktion die Summe der Fehlerquadrate verwendet.\n",
    "Schauen wir uns zunächst an, welche Kostenfunktion dieser Ansatz für die Sigmoidfunktion liefert.\n",
    "\n",
    "Wir erweitern zuerst unsere Matrix `X` um eine Spalten mit Einsen für die Bestimmung des Bias-Parameters $\\Theta_0$."
   ]
  },
  {
   "cell_type": "code",
   "execution_count": 15,
   "metadata": {
    "slideshow": {
     "slide_type": "skip"
    }
   },
   "outputs": [],
   "source": [
    "vone = (np.ones(len(X))).reshape(-1,1)\n",
    "XX = X.reshape(-1,1)\n",
    "XX = np.concatenate((vone, XX), 1)\n",
    "yy = y.reshape(-1,1)\n",
    "# Und wieder zurück:\n",
    "#X = X[:,1:]\n",
    "#X = X.reshape(1,-1)[0]"
   ]
  },
  {
   "cell_type": "markdown",
   "metadata": {
    "slideshow": {
     "slide_type": "skip"
    }
   },
   "source": [
    "Im folgenden Code-Abschnitt wird die Kostenfunktion $J_{\\Theta}(x)$ geplottet.\n",
    "Um die Funktion 2-dimensional darstellen zu können, setzen wir einen Parameter $\\Theta_0$ fest."
   ]
  },
  {
   "cell_type": "code",
   "execution_count": 16,
   "metadata": {
    "slideshow": {
     "slide_type": "slide"
    }
   },
   "outputs": [
    {
     "data": {
      "image/png": "[encoded data removed]",
      "text/plain": [
       "<Figure size 720x432 with 1 Axes>"
      ]
     },
     "metadata": {
      "needs_background": "light"
     },
     "output_type": "display_data"
    }
   ],
   "source": [
    "def h(X,theta):\n",
    "    r = 1.0 / (1.0+np.exp(-(X@theta)))\n",
    "    return r\n",
    "\n",
    "def J(X,theta,y):\n",
    "    j = (h(X,theta)-y).T@(h(X,theta)-y)\n",
    "    return j\n",
    "\n",
    "yt1 = []\n",
    "xt1 = []\n",
    "\n",
    "for t in np.linspace(-2,2,1000):\n",
    "    xt1.append(t)\n",
    "    theata0 = np.array([33, t]).reshape((2,1))\n",
    "    yt1.append(J(XX,theata0,yy).item(0))\n",
    "\n",
    "\n",
    "plt.figure(figsize=(10,6))\n",
    "plt.plot(xt1, yt1, label=r'$J_{\\Theta}(x)$')\n",
    "plt.legend(loc='upper right', prop={'size': 16})\n",
    "plt.xlabel(r'$\\Theta_1$', fontsize=16)\n",
    "plt.text(0, 22, r'$J_{\\Theta}(x)$ ist nicht konvex', fontsize=14)\n",
    "plt.savefig(\"LogistischeRegression08.png\",transparent=True, dpi=300)\n",
    "plt.show()"
   ]
  },
  {
   "cell_type": "markdown",
   "metadata": {
    "slideshow": {
     "slide_type": "slide"
    }
   },
   "source": [
    "Man erkennt direkt, dass lokale Minimima existieren und dass diese Funktion $J$ damit nicht konvex sein kann.\n",
    "Aus diesem Grund lässt sich das Gradientenverfahren nicht auf die Kostenfunktion anwenden.\n",
    "Je nachdem, wo man mit der Parameteroptimierung startet, könnte die Suche in ein lokales Minimum laufen und damit die optimalen Modellparameter nicht finden."
   ]
  },
  {
   "cell_type": "markdown",
   "metadata": {
    "slideshow": {
     "slide_type": "slide"
    }
   },
   "source": [
    "Da die Methode der Fehlerquadrate nicht zielführend ist, verwendet man der logistischen Regression eine andere Kostenfunktion.\n",
    "\n",
    "Die Funktion $\\hat{J}_{\\Theta}(x)$ verwendet die Logarithmusfunktion angewendet auf $h_{\\Theta}(x)$ und in Abhängigkeit von $y$."
   ]
  },
  {
   "cell_type": "markdown",
   "metadata": {
    "slideshow": {
     "slide_type": "fragment"
    }
   },
   "source": [
    "$$\n",
    "\\begin{equation*}\n",
    "\\hat{J}_{\\Theta}(x)=\\begin{cases}\n",
    "-\\log (h_{\\Theta}(x)) & \\text{falls } y=1\\\\\n",
    "-\\log (1-h_{\\Theta}(x)) & \\text{falls } y=0\n",
    "\\end{cases}\n",
    "\\end{equation*}\n",
    "$$"
   ]
  },
  {
   "cell_type": "code",
   "execution_count": 17,
   "metadata": {
    "slideshow": {
     "slide_type": "slide"
    }
   },
   "outputs": [
    {
     "data": {
      "image/png": "[encoded data removed]",
      "text/plain": [
       "<Figure size 864x432 with 2 Axes>"
      ]
     },
     "metadata": {
      "needs_background": "light"
     },
     "output_type": "display_data"
    }
   ],
   "source": [
    "xx = np.arange(0.01, 1, .01)\n",
    "\n",
    "fig, axs =plt.subplots(1, 2, figsize=(12,6))                    \n",
    "\n",
    "\n",
    "axs[0].plot(xx, -np.log(xx), linewidth=4, label=r'$J_{\\Theta}(x)$')\n",
    "axs[1].plot(xx, -np.log(1-xx), linewidth=4, label=r'$J_{\\Theta}(x)$', c='orange')\n",
    "for i in [0,1]:\n",
    "    axs[i].spines['right'].set_color('none')\n",
    "    axs[i].spines['top'].set_color('none')\n",
    "    axs[i].spines['left'].set_position(('data',0))\n",
    "    axs[i].spines['bottom'].set_position(('data',0))\n",
    "    axs[i].xaxis.set_ticks_position('bottom')\n",
    "    axs[i].yaxis.set_ticks_position('left')\n",
    "    for label in axs[i].get_xticklabels() + axs[i].get_yticklabels():\n",
    "        label.set_fontsize(12)\n",
    "        label.set_bbox(dict(facecolor='white', edgecolor='None', alpha=0.65 ))\n",
    "    axs[i].legend(loc='upper center', prop={'size': 16})\n",
    "    axs[i].set_xlabel(r'$h_{\\Theta}$', fontsize=16)\n",
    "\n",
    "axs[0].text(0.2, 2.5, 'Falls y=1', fontsize=18)\n",
    "axs[1].text(0.2, 2.5, 'Falls y=0', fontsize=18)\n",
    "\n",
    "plt.savefig(\"LogistischeRegression09.png\",transparent=True, dpi=300)   \n",
    "plt.show()\n"
   ]
  },
  {
   "cell_type": "markdown",
   "metadata": {
    "slideshow": {
     "slide_type": "slide"
    }
   },
   "source": [
    "Die Kostenfunktion $\\hat{J}_{\\Theta}(x)$ ist konvex, daher können wir das Gradientenverfahren anwenden.\n",
    "\n",
    "Um die Fallunterscheidung für $y=0$ und $y=1$ zu eliminieren, können wir $\\hat{J}$ auch so formulieren:\n",
    "\n",
    "$$\n",
    "\\hat{J}_{\\Theta}(x)= -y\\log(h_{\\Theta}(x))- ( (1-y)\\log(1-h_{\\Theta}(x)))\n",
    "$$\n",
    "\n",
    "Um die endgültige Kostenfunktion zu erhalten, skalieren wir die Funktion noch durch die Anzahl der Datenpunkte und erhalten so\n",
    "\n",
    "$$\n",
    "J_{\\Theta}(x)= \\frac{1}{m} -y\\log(h_{\\Theta}(x))- ( (1-y)\\log(1-h_{\\Theta}(x)))\n",
    "$$"
   ]
  },
  {
   "cell_type": "markdown",
   "metadata": {
    "slideshow": {
     "slide_type": "slide"
    }
   },
   "source": [
    "\n",
    "Nun können wir das Gradientenverfahren anwenden.\n",
    "Skalieren wir wie gewohnt zuerst die Werte der Merkmale."
   ]
  },
  {
   "cell_type": "code",
   "execution_count": 18,
   "metadata": {
    "slideshow": {
     "slide_type": "fragment"
    }
   },
   "outputs": [
    {
     "data": {
      "text/plain": [
       "array([[1.        , 0.74324324],\n",
       "       [1.        , 0.2972973 ],\n",
       "       [1.        , 0.24324324],\n",
       "       [1.        , 0.59459459],\n",
       "       [1.        , 0.77027027]])"
      ]
     },
     "execution_count": 18,
     "metadata": {},
     "output_type": "execute_result"
    }
   ],
   "source": [
    "y = y.reshape(-1,1)\n",
    "\n",
    "scaling_factors = np.abs(XX[:,1:].max(axis=0)-XX[:,1:].min(axis=0))\n",
    "scaling_factors = np.concatenate([[1.0], scaling_factors])\n",
    "\n",
    "X_scaled = XX/scaling_factors\n",
    "X_scaled[0:5,]"
   ]
  },
  {
   "cell_type": "markdown",
   "metadata": {
    "slideshow": {
     "slide_type": "skip"
    }
   },
   "source": [
    "Im folgenden Code-Abschnitt werden die Modell-, Kosten- und Gradient-Descent Funktionen definiert."
   ]
  },
  {
   "cell_type": "code",
   "execution_count": 19,
   "metadata": {
    "slideshow": {
     "slide_type": "slide"
    }
   },
   "outputs": [],
   "source": [
    "def h(X,theta):\n",
    "    return  1.0 / (1.0+np.exp(-(X@theta)))\n",
    "\n",
    "def J(X,theta,y):\n",
    "    yy = h(X,theta)\n",
    "    return -1/len(y) * (y.T@np.log(yy) + ((1-y).T@np.log(1-yy)))\n",
    "\n",
    "def gradient_descent(X, y, theta, alpha, iterationen):\n",
    "    kosten = []\n",
    "    for iter in range(iterationen):\n",
    "        costs = J(X, theta, y)\n",
    "        kosten.append(costs.item(0))\n",
    "        gradient = 1/len(y) * (X.T @ (h(X, theta) - y))\n",
    "        theta = theta - (alpha * gradient)\n",
    "    return theta, kosten"
   ]
  },
  {
   "cell_type": "markdown",
   "metadata": {
    "slideshow": {
     "slide_type": "skip"
    }
   },
   "source": [
    "Nun können wir die Parameter des Modells trainieren."
   ]
  },
  {
   "cell_type": "code",
   "execution_count": 20,
   "metadata": {
    "slideshow": {
     "slide_type": "slide"
    }
   },
   "outputs": [
    {
     "data": {
      "image/png": "[encoded data removed]",
      "text/plain": [
       "<Figure size 720x432 with 1 Axes>"
      ]
     },
     "metadata": {
      "needs_background": "light"
     },
     "output_type": "display_data"
    },
    {
     "data": {
      "text/plain": [
       "array([[-7.68954059],\n",
       "       [ 0.2473374 ]])"
      ]
     },
     "execution_count": 20,
     "metadata": {},
     "output_type": "execute_result"
    }
   ],
   "source": [
    "theta0 = np.array([0,0]).reshape(2,1)\n",
    "\n",
    "X_train, X_test, y_train, y_test = train_test_split(XX, y, test_size=0.3, random_state=0)\n",
    "X_train/=scaling_factors\n",
    "\n",
    "y = y.reshape(-1,1)\n",
    "theta_scaled, kosten = gradient_descent(X_train, y_train, theta0, 8, 1000)\n",
    "plt.figure(figsize=(10,6))\n",
    "plt.plot(range(1,len(kosten)),kosten[1:], \"x-\")\n",
    "plt.xlabel(\"Epochen\", fontsize=14)\n",
    "plt.savefig(\"LogistischeRegression10.png\",transparent=True, dpi=300)\n",
    "plt.show()\n",
    "theta_gd = (theta_scaled.T/scaling_factors).T\n",
    "theta_gd"
   ]
  },
  {
   "cell_type": "markdown",
   "metadata": {
    "slideshow": {
     "slide_type": "slide"
    }
   },
   "source": [
    "Wir testen nun das trainierte Modell mit dem Testdatensatz und bestimmen die Vorhersagegenauigkeit."
   ]
  },
  {
   "cell_type": "code",
   "execution_count": 21,
   "metadata": {
    "slideshow": {
     "slide_type": "fragment"
    }
   },
   "outputs": [
    {
     "name": "stdout",
     "output_type": "stream",
     "text": [
      "Vorhersagegenauigkeit: 83.33%\n"
     ]
    }
   ],
   "source": [
    "theta_gd\n",
    "pred_gd = np.array([h(X_test,theta_gd)>=0.5])*1\n",
    "acc_gd=100-np.sum(np.abs(pred_gd-y_test))*100/len(y_test)\n",
    "print(\"Vorhersagegenauigkeit: %.2f%%\" % acc_gd)"
   ]
  },
  {
   "cell_type": "markdown",
   "metadata": {
    "slideshow": {
     "slide_type": "slide"
    }
   },
   "source": [
    "Nun wollen wir noch testen, zu welchen Ergebnissen die logistische Regression aus der Scikil-Learn Bibliothek kommt."
   ]
  },
  {
   "cell_type": "code",
   "execution_count": 22,
   "metadata": {
    "slideshow": {
     "slide_type": "fragment"
    }
   },
   "outputs": [
    {
     "data": {
      "text/plain": [
       "(array([-7.71744494]), array([[0.24816198]]))"
      ]
     },
     "execution_count": 22,
     "metadata": {},
     "output_type": "execute_result"
    }
   ],
   "source": [
    "from sklearn.linear_model import LogisticRegression\n",
    "from sklearn.model_selection import train_test_split\n",
    "\n",
    "X_train, X_test, y_train, y_test = train_test_split(XX[:,1:], y.reshape(-1), test_size=0.3, random_state=0)\n",
    "logreg = LogisticRegression(solver='lbfgs')\n",
    "logreg.fit(X_train, y_train)\n",
    "\n",
    "logreg.intercept_, logreg.coef_"
   ]
  },
  {
   "cell_type": "markdown",
   "metadata": {
    "slideshow": {
     "slide_type": "slide"
    }
   },
   "source": [
    "Wie man sieht, sind die Parameter sehr ähnlich zu denen, die unser \"hand-kodiertes\" Gradientenverfahren liefert.\n",
    "Auch die Vorhersagedenauigkeit dieses Modells ist nahezu identisch."
   ]
  },
  {
   "cell_type": "code",
   "execution_count": 23,
   "metadata": {
    "slideshow": {
     "slide_type": "fragment"
    }
   },
   "outputs": [
    {
     "name": "stdout",
     "output_type": "stream",
     "text": [
      "Vorhersagegenauigkeit: 83.33%\n"
     ]
    }
   ],
   "source": [
    "y_pred = logreg.predict(X_test)\n",
    "acc_test=100-np.sum(np.abs(y_pred-y_test))*100/len(y_pred)\n",
    "\n",
    "print(\"Vorhersagegenauigkeit: %.2f%%\" % acc_test)\n"
   ]
  },
  {
   "cell_type": "markdown",
   "metadata": {
    "slideshow": {
     "slide_type": "slide"
    }
   },
   "source": [
    "Nun Plotten wir noch die edgültige Modellfunktion und tragen die Entscheidungsgrenze bei $h_{\\Theta}(x)=0.5$ ein."
   ]
  },
  {
   "cell_type": "code",
   "execution_count": 24,
   "metadata": {
    "slideshow": {
     "slide_type": "fragment"
    }
   },
   "outputs": [
    {
     "data": {
      "image/png": "[encoded data removed]",
      "text/plain": [
       "<Figure size 720x432 with 1 Axes>"
      ]
     },
     "metadata": {
      "needs_background": "light"
     },
     "output_type": "display_data"
    }
   ],
   "source": [
    "theta_gd = (theta_scaled.T/scaling_factors).T\n",
    "\n",
    "xx = np.linspace(-1,90,300).reshape(-1,1)\n",
    "xx = np.concatenate(((np.ones(len(xx))).reshape(-1,1), xx), 1)\n",
    "yy = h(xx,theta_gd)\n",
    "\n",
    "i = 0\n",
    "while(yy[i]<0.5): i+=1\n",
    "xx[:,1][i]\n",
    "\n",
    "plt.figure(figsize=(10,6))\n",
    "plt.plot(xx[:,1], yy, c='orange', label=\"Modellfunktion\", linewidth=3)\n",
    "plt.scatter(X, y, label=\"Datenpunkte\")\n",
    "plt.xlabel(\"Lernstunden\", fontsize=14)\n",
    "plt.axvline(x=xx[:,1][i], c='r', ls=':', label=\"Entscheidungsgrenze\")\n",
    "plt.legend(loc='lower right', prop={'size': 12})\n",
    "plt.savefig(\"LogistischeRegression11.png\",transparent=True, dpi=300)\n",
    "plt.show()"
   ]
  },
  {
   "cell_type": "markdown",
   "metadata": {
    "slideshow": {
     "slide_type": "slide"
    }
   },
   "source": [
    "## Multiklassen-Klassifikation "
   ]
  },
  {
   "cell_type": "markdown",
   "metadata": {
    "slideshow": {
     "slide_type": "slide"
    }
   },
   "source": [
    "Die logistische Regression liefert uns Ergebnisse für binäre Zielvariable.\n",
    "Oftmals wollen wir aber mehr als 2 Klassen unterscheiden.\n",
    "\n",
    "Eine Möglichkeit, um Multiklassen-Klassifikation mit logistischen Regression umzusetzen ist die sogenannte *One-vs-all Klassifikation*.\n",
    "Dabei werden für `n` Klassen `n` separate, binäre Klassifikationsprobleme definiert, bei denen jeweils nur die betrachtete Klasse den Zielwert `1` zugeteilt bekommt, und für alle anderen Klassen der Zielwert `0` angenommen wird."
   ]
  },
  {
   "cell_type": "markdown",
   "metadata": {
    "slideshow": {
     "slide_type": "slide"
    }
   },
   "source": [
    "Scikit-Learn unterstüzt Multiklassen-Klassifikation in der Klasse `LogisticRegression` über den Parameter `multi_class`.\n",
    "Setzt man : `multi_class=\"ovr\"` benutzt die führt die Funktion `fit` je eine logistische Regression für jedes Label nach dem *one-vs-all* (oder auch *one-vs-rest*, ovr) Prinzip aus."
   ]
  },
  {
   "cell_type": "markdown",
   "metadata": {
    "slideshow": {
     "slide_type": "skip"
    }
   },
   "source": [
    "In der folgenden Code-Zelle erzeugen wir 3 Punktwolken.\n",
    "Alle Punkte einer \"Wolke\" sollen zu einer bestimmten Klasse gehören."
   ]
  },
  {
   "cell_type": "code",
   "execution_count": 28,
   "metadata": {
    "slideshow": {
     "slide_type": "slide"
    }
   },
   "outputs": [
    {
     "data": {
      "image/png": "[encoded data removed]",
      "text/plain": [
       "<Figure size 720x432 with 1 Axes>"
      ]
     },
     "metadata": {
      "needs_background": "light"
     },
     "output_type": "display_data"
    }
   ],
   "source": [
    "from sklearn.datasets.samples_generator import make_blobs\n",
    "import matplotlib.pyplot as plt\n",
    "from pandas import DataFrame\n",
    "\n",
    "X, y = make_blobs(n_samples=100, centers=3, n_features=2, random_state=10)\n",
    "\n",
    "df = DataFrame(dict(x=X[:,0], y=X[:,1], label=y))\n",
    "colors = {0:'red', 1:'blue', 2:'green'}\n",
    "markers = {0:'o', 1:'x', 2:'^'}\n",
    "\n",
    "fig, ax = plt.subplots(figsize=(10,6))\n",
    "grouped = df.groupby('label')\n",
    "for key, group in grouped:\n",
    "    group.plot(ax=ax, kind='scatter', x='x', y='y', label=key, marker=markers[key], color=colors[key])\n",
    "    \n",
    "plt.legend(loc='upper right', prop={'size': 12})\n",
    "plt.savefig(\"LogistischeRegression20.png\",transparent=True, dpi=300)\n",
    "plt.show()"
   ]
  },
  {
   "cell_type": "markdown",
   "metadata": {
    "slideshow": {
     "slide_type": "skip"
    }
   },
   "source": [
    "Nun wenden wir ein logistisches Regressionsmodell auf die Datenbasis an."
   ]
  },
  {
   "cell_type": "code",
   "execution_count": 29,
   "metadata": {
    "slideshow": {
     "slide_type": "slide"
    }
   },
   "outputs": [
    {
     "data": {
      "text/plain": [
       "(array([-1.40954684, -2.8989822 ,  1.83784718]),\n",
       " array([[ 2.86252928, -2.85575428],\n",
       "        [ 0.53161969,  4.1906353 ],\n",
       "        [-3.53130388, -1.56501811]]))"
      ]
     },
     "execution_count": 29,
     "metadata": {},
     "output_type": "execute_result"
    }
   ],
   "source": [
    "from sklearn.preprocessing import MinMaxScaler\n",
    "from sklearn.linear_model import LogisticRegression\n",
    "from sklearn.pipeline import Pipeline\n",
    "\n",
    "logreg = LogisticRegression()\n",
    "\n",
    "\n",
    "X_train, X_test, y_train, y_test = train_test_split(X,y,test_size=0.3, random_state=0)\n",
    "\n",
    "pipeline = Pipeline([\n",
    "    ('scaler',MinMaxScaler()),\n",
    "    ('model', LogisticRegression(solver='lbfgs',multi_class=\"ovr\"))\n",
    "])\n",
    "\n",
    "pipeline.fit(X_train,y_train)\n",
    "\n",
    "params0 = pipeline.named_steps[\"model\"].intercept_\n",
    "paramsi  = pipeline.named_steps[\"model\"].coef_\n",
    "\n",
    "params0, paramsi\n"
   ]
  },
  {
   "cell_type": "markdown",
   "metadata": {
    "slideshow": {
     "slide_type": "skip"
    }
   },
   "source": [
    "Der folgende Graph zeigt die Entscheidungsgrenzen für das Klassifikationsmodell.\n",
    "Alle Punkte innerhalb eines Bereiches werden der jeweiligen Klasse zugeordnet."
   ]
  },
  {
   "cell_type": "code",
   "execution_count": 30,
   "metadata": {
    "slideshow": {
     "slide_type": "slide"
    }
   },
   "outputs": [
    {
     "data": {
      "image/png": "[encoded data removed]",
      "text/plain": [
       "<Figure size 720x432 with 1 Axes>"
      ]
     },
     "metadata": {
      "needs_background": "light"
     },
     "output_type": "display_data"
    }
   ],
   "source": [
    "i=0\n",
    "xx = np.linspace(X_train[:,0].min()-1, X_train[:,0].max()+1, 300)\n",
    "yy = np.linspace(X_train[:,1].min()-1, X_train[:,1].max()+1, 300)\n",
    "XX, YY = np.meshgrid(xx,yy)\n",
    "ZZ = pipeline.predict(np.c_[XX.ravel(), YY.ravel()])\n",
    "ZZ = ZZ.reshape(XX.shape)\n",
    "\n",
    "yyy = params0[0] + paramsi[0][0]*xx + paramsi[0][1]*yy\n",
    "\n",
    "colors = {0:'red', 1:'blue', 2:'green'}\n",
    "markers = {0:'o', 1:'x', 2:'^'}\n",
    "fig, ax = plt.subplots(figsize=(10,6))\n",
    "grouped = df.groupby('label')\n",
    "\n",
    "for key, group in grouped:\n",
    "    group.plot(ax=ax, kind='scatter', x='x', y='y', label=key, marker=markers[key], color=colors[key])\n",
    "    \n",
    "\n",
    "plt.contour(XX, YY, ZZ, cmap=plt.cm.Blues)\n",
    "plt.legend(loc='upper right', prop={'size': 12})\n",
    "plt.savefig(\"LogistischeRegression21.png\",transparent=True, dpi=300)\n",
    "plt.show()"
   ]
  }
 ],
 "metadata": {
  "kernelspec": {
   "display_name": "Python 3",
   "language": "python",
   "name": "python3"
  },
  "language_info": {
   "codemirror_mode": {
    "name": "ipython",
    "version": 3
   },
   "file_extension": ".py",
   "mimetype": "text/x-python",
   "name": "python",
   "nbconvert_exporter": "python",
   "pygments_lexer": "ipython3",
   "version": "3.7.6"
  }
 },
 "nbformat": 4,
 "nbformat_minor": 2
}
